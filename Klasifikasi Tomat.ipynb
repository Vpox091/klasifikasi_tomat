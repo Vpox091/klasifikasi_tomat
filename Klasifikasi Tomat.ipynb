{
 "cells": [
  {
   "cell_type": "markdown",
   "id": "625c327b-2d84-4bdc-990d-abb59f01e1a0",
   "metadata": {},
   "source": [
    "#Step by Step Klasfikasi Tomat\n",
    "\n",
    "Di Notebook ini, kita akan membuat proyek machine learning classification dengan dataset tomat menggunakan algoritma LogisticRegression + StandardScaler.\n",
    "\n",
    "Alur kerja :\n",
    "\n",
    "1. load dataset\n",
    "2. visualisasi data\n",
    "3. pembuatan model machine learning clssification\n",
    "4. tes prediksi data baru\n",
    "5. simpan model ke dalam bentuk joblib\n"
   ]
  },
  {
   "cell_type": "code",
   "execution_count": 3,
   "id": "a66ee730-c2a0-427a-b022-a77e67401f2c",
   "metadata": {},
   "outputs": [
    {
     "data": {
      "text/html": [
       "<div>\n",
       "<style scoped>\n",
       "    .dataframe tbody tr th:only-of-type {\n",
       "        vertical-align: middle;\n",
       "    }\n",
       "\n",
       "    .dataframe tbody tr th {\n",
       "        vertical-align: top;\n",
       "    }\n",
       "\n",
       "    .dataframe thead th {\n",
       "        text-align: right;\n",
       "    }\n",
       "</style>\n",
       "<table border=\"1\" class=\"dataframe\">\n",
       "  <thead>\n",
       "    <tr style=\"text-align: right;\">\n",
       "      <th></th>\n",
       "      <th>berat</th>\n",
       "      <th>kekenyalan</th>\n",
       "      <th>kadar_gula</th>\n",
       "      <th>tebal_kulit</th>\n",
       "      <th>grade</th>\n",
       "    </tr>\n",
       "  </thead>\n",
       "  <tbody>\n",
       "    <tr>\n",
       "      <th>0</th>\n",
       "      <td>95</td>\n",
       "      <td>8.5</td>\n",
       "      <td>4.8</td>\n",
       "      <td>0.85</td>\n",
       "      <td>Ekspor</td>\n",
       "    </tr>\n",
       "    <tr>\n",
       "      <th>1</th>\n",
       "      <td>88</td>\n",
       "      <td>9.2</td>\n",
       "      <td>5.1</td>\n",
       "      <td>0.90</td>\n",
       "      <td>Ekspor</td>\n",
       "    </tr>\n",
       "    <tr>\n",
       "      <th>2</th>\n",
       "      <td>102</td>\n",
       "      <td>8.8</td>\n",
       "      <td>4.9</td>\n",
       "      <td>0.82</td>\n",
       "      <td>Ekspor</td>\n",
       "    </tr>\n",
       "    <tr>\n",
       "      <th>3</th>\n",
       "      <td>110</td>\n",
       "      <td>8.1</td>\n",
       "      <td>4.6</td>\n",
       "      <td>0.88</td>\n",
       "      <td>Ekspor</td>\n",
       "    </tr>\n",
       "    <tr>\n",
       "      <th>4</th>\n",
       "      <td>92</td>\n",
       "      <td>9.0</td>\n",
       "      <td>5.0</td>\n",
       "      <td>0.87</td>\n",
       "      <td>Ekspor</td>\n",
       "    </tr>\n",
       "    <tr>\n",
       "      <th>...</th>\n",
       "      <td>...</td>\n",
       "      <td>...</td>\n",
       "      <td>...</td>\n",
       "      <td>...</td>\n",
       "      <td>...</td>\n",
       "    </tr>\n",
       "    <tr>\n",
       "      <th>85</th>\n",
       "      <td>180</td>\n",
       "      <td>4.2</td>\n",
       "      <td>3.0</td>\n",
       "      <td>0.57</td>\n",
       "      <td>Industri</td>\n",
       "    </tr>\n",
       "    <tr>\n",
       "      <th>86</th>\n",
       "      <td>208</td>\n",
       "      <td>3.4</td>\n",
       "      <td>2.8</td>\n",
       "      <td>0.53</td>\n",
       "      <td>Industri</td>\n",
       "    </tr>\n",
       "    <tr>\n",
       "      <th>87</th>\n",
       "      <td>172</td>\n",
       "      <td>4.7</td>\n",
       "      <td>3.2</td>\n",
       "      <td>0.59</td>\n",
       "      <td>Industri</td>\n",
       "    </tr>\n",
       "    <tr>\n",
       "      <th>88</th>\n",
       "      <td>188</td>\n",
       "      <td>4.0</td>\n",
       "      <td>2.9</td>\n",
       "      <td>0.56</td>\n",
       "      <td>Industri</td>\n",
       "    </tr>\n",
       "    <tr>\n",
       "      <th>89</th>\n",
       "      <td>198</td>\n",
       "      <td>3.6</td>\n",
       "      <td>2.6</td>\n",
       "      <td>0.54</td>\n",
       "      <td>Industri</td>\n",
       "    </tr>\n",
       "  </tbody>\n",
       "</table>\n",
       "<p>90 rows × 5 columns</p>\n",
       "</div>"
      ],
      "text/plain": [
       "    berat  kekenyalan  kadar_gula  tebal_kulit     grade\n",
       "0      95         8.5         4.8         0.85    Ekspor\n",
       "1      88         9.2         5.1         0.90    Ekspor\n",
       "2     102         8.8         4.9         0.82    Ekspor\n",
       "3     110         8.1         4.6         0.88    Ekspor\n",
       "4      92         9.0         5.0         0.87    Ekspor\n",
       "..    ...         ...         ...          ...       ...\n",
       "85    180         4.2         3.0         0.57  Industri\n",
       "86    208         3.4         2.8         0.53  Industri\n",
       "87    172         4.7         3.2         0.59  Industri\n",
       "88    188         4.0         2.9         0.56  Industri\n",
       "89    198         3.6         2.6         0.54  Industri\n",
       "\n",
       "[90 rows x 5 columns]"
      ]
     },
     "execution_count": 3,
     "metadata": {},
     "output_type": "execute_result"
    }
   ],
   "source": [
    "import pandas as pd\n",
    "df=pd.read_csv(\"dataset_tomat.csv\")\n",
    "df"
   ]
  },
  {
   "cell_type": "code",
   "execution_count": 4,
   "id": "93bb6152-cfbb-4715-8ebc-b1157f4862d7",
   "metadata": {},
   "outputs": [
    {
     "data": {
      "text/html": [
       "<div>\n",
       "<style scoped>\n",
       "    .dataframe tbody tr th:only-of-type {\n",
       "        vertical-align: middle;\n",
       "    }\n",
       "\n",
       "    .dataframe tbody tr th {\n",
       "        vertical-align: top;\n",
       "    }\n",
       "\n",
       "    .dataframe thead th {\n",
       "        text-align: right;\n",
       "    }\n",
       "</style>\n",
       "<table border=\"1\" class=\"dataframe\">\n",
       "  <thead>\n",
       "    <tr style=\"text-align: right;\">\n",
       "      <th></th>\n",
       "      <th>berat</th>\n",
       "      <th>kekenyalan</th>\n",
       "      <th>kadar_gula</th>\n",
       "      <th>tebal_kulit</th>\n",
       "      <th>grade</th>\n",
       "    </tr>\n",
       "  </thead>\n",
       "  <tbody>\n",
       "    <tr>\n",
       "      <th>0</th>\n",
       "      <td>95</td>\n",
       "      <td>8.5</td>\n",
       "      <td>4.8</td>\n",
       "      <td>0.85</td>\n",
       "      <td>Ekspor</td>\n",
       "    </tr>\n",
       "    <tr>\n",
       "      <th>1</th>\n",
       "      <td>88</td>\n",
       "      <td>9.2</td>\n",
       "      <td>5.1</td>\n",
       "      <td>0.90</td>\n",
       "      <td>Ekspor</td>\n",
       "    </tr>\n",
       "  </tbody>\n",
       "</table>\n",
       "</div>"
      ],
      "text/plain": [
       "   berat  kekenyalan  kadar_gula  tebal_kulit   grade\n",
       "0     95         8.5         4.8         0.85  Ekspor\n",
       "1     88         9.2         5.1         0.90  Ekspor"
      ]
     },
     "execution_count": 4,
     "metadata": {},
     "output_type": "execute_result"
    }
   ],
   "source": [
    "df.head(2)"
   ]
  },
  {
   "cell_type": "code",
   "execution_count": 6,
   "id": "39c6f7ce-de78-4ecf-be32-39bdc7e07ab8",
   "metadata": {},
   "outputs": [
    {
     "data": {
      "text/html": [
       "<div>\n",
       "<style scoped>\n",
       "    .dataframe tbody tr th:only-of-type {\n",
       "        vertical-align: middle;\n",
       "    }\n",
       "\n",
       "    .dataframe tbody tr th {\n",
       "        vertical-align: top;\n",
       "    }\n",
       "\n",
       "    .dataframe thead th {\n",
       "        text-align: right;\n",
       "    }\n",
       "</style>\n",
       "<table border=\"1\" class=\"dataframe\">\n",
       "  <thead>\n",
       "    <tr style=\"text-align: right;\">\n",
       "      <th></th>\n",
       "      <th>berat</th>\n",
       "      <th>kekenyalan</th>\n",
       "      <th>kadar_gula</th>\n",
       "      <th>tebal_kulit</th>\n",
       "      <th>grade</th>\n",
       "    </tr>\n",
       "  </thead>\n",
       "  <tbody>\n",
       "    <tr>\n",
       "      <th>88</th>\n",
       "      <td>188</td>\n",
       "      <td>4.0</td>\n",
       "      <td>2.9</td>\n",
       "      <td>0.56</td>\n",
       "      <td>Industri</td>\n",
       "    </tr>\n",
       "    <tr>\n",
       "      <th>89</th>\n",
       "      <td>198</td>\n",
       "      <td>3.6</td>\n",
       "      <td>2.6</td>\n",
       "      <td>0.54</td>\n",
       "      <td>Industri</td>\n",
       "    </tr>\n",
       "  </tbody>\n",
       "</table>\n",
       "</div>"
      ],
      "text/plain": [
       "    berat  kekenyalan  kadar_gula  tebal_kulit     grade\n",
       "88    188         4.0         2.9         0.56  Industri\n",
       "89    198         3.6         2.6         0.54  Industri"
      ]
     },
     "execution_count": 6,
     "metadata": {},
     "output_type": "execute_result"
    }
   ],
   "source": [
    "df.tail(2)"
   ]
  },
  {
   "cell_type": "code",
   "execution_count": 8,
   "id": "cdbcb053-017c-4366-9218-b607793929b7",
   "metadata": {},
   "outputs": [
    {
     "data": {
      "text/plain": [
       "Index(['berat', 'kekenyalan', 'kadar_gula', 'tebal_kulit', 'grade'], dtype='object')"
      ]
     },
     "execution_count": 8,
     "metadata": {},
     "output_type": "execute_result"
    }
   ],
   "source": [
    "df.columns"
   ]
  },
  {
   "cell_type": "code",
   "execution_count": 10,
   "id": "9c584c01-1162-4389-ac3f-4e1c3aaea7e8",
   "metadata": {},
   "outputs": [
    {
     "name": "stdout",
     "output_type": "stream",
     "text": [
      "<class 'pandas.core.frame.DataFrame'>\n",
      "RangeIndex: 90 entries, 0 to 89\n",
      "Data columns (total 5 columns):\n",
      " #   Column       Non-Null Count  Dtype  \n",
      "---  ------       --------------  -----  \n",
      " 0   berat        90 non-null     int64  \n",
      " 1   kekenyalan   90 non-null     float64\n",
      " 2   kadar_gula   90 non-null     float64\n",
      " 3   tebal_kulit  90 non-null     float64\n",
      " 4   grade        90 non-null     object \n",
      "dtypes: float64(3), int64(1), object(1)\n",
      "memory usage: 3.6+ KB\n"
     ]
    }
   ],
   "source": [
    "df.info()"
   ]
  },
  {
   "cell_type": "code",
   "execution_count": 13,
   "id": "fa7e7678-c176-4e1a-9b6b-3d19b5b7ac63",
   "metadata": {},
   "outputs": [
    {
     "data": {
      "text/html": [
       "<div>\n",
       "<style scoped>\n",
       "    .dataframe tbody tr th:only-of-type {\n",
       "        vertical-align: middle;\n",
       "    }\n",
       "\n",
       "    .dataframe tbody tr th {\n",
       "        vertical-align: top;\n",
       "    }\n",
       "\n",
       "    .dataframe thead th {\n",
       "        text-align: right;\n",
       "    }\n",
       "</style>\n",
       "<table border=\"1\" class=\"dataframe\">\n",
       "  <thead>\n",
       "    <tr style=\"text-align: right;\">\n",
       "      <th></th>\n",
       "      <th>berat</th>\n",
       "      <th>kekenyalan</th>\n",
       "      <th>kadar_gula</th>\n",
       "      <th>tebal_kulit</th>\n",
       "    </tr>\n",
       "  </thead>\n",
       "  <tbody>\n",
       "    <tr>\n",
       "      <th>count</th>\n",
       "      <td>90.000000</td>\n",
       "      <td>90.000000</td>\n",
       "      <td>90.000000</td>\n",
       "      <td>90.000000</td>\n",
       "    </tr>\n",
       "    <tr>\n",
       "      <th>mean</th>\n",
       "      <td>142.388889</td>\n",
       "      <td>6.547778</td>\n",
       "      <td>3.956667</td>\n",
       "      <td>0.721778</td>\n",
       "    </tr>\n",
       "    <tr>\n",
       "      <th>std</th>\n",
       "      <td>37.919398</td>\n",
       "      <td>1.933456</td>\n",
       "      <td>0.785265</td>\n",
       "      <td>0.126461</td>\n",
       "    </tr>\n",
       "    <tr>\n",
       "      <th>min</th>\n",
       "      <td>85.000000</td>\n",
       "      <td>3.400000</td>\n",
       "      <td>2.600000</td>\n",
       "      <td>0.510000</td>\n",
       "    </tr>\n",
       "    <tr>\n",
       "      <th>25%</th>\n",
       "      <td>104.250000</td>\n",
       "      <td>4.525000</td>\n",
       "      <td>3.225000</td>\n",
       "      <td>0.592500</td>\n",
       "    </tr>\n",
       "    <tr>\n",
       "      <th>50%</th>\n",
       "      <td>143.000000</td>\n",
       "      <td>6.850000</td>\n",
       "      <td>4.000000</td>\n",
       "      <td>0.730000</td>\n",
       "    </tr>\n",
       "    <tr>\n",
       "      <th>75%</th>\n",
       "      <td>175.500000</td>\n",
       "      <td>8.375000</td>\n",
       "      <td>4.700000</td>\n",
       "      <td>0.847500</td>\n",
       "    </tr>\n",
       "    <tr>\n",
       "      <th>max</th>\n",
       "      <td>210.000000</td>\n",
       "      <td>9.400000</td>\n",
       "      <td>5.200000</td>\n",
       "      <td>0.920000</td>\n",
       "    </tr>\n",
       "  </tbody>\n",
       "</table>\n",
       "</div>"
      ],
      "text/plain": [
       "            berat  kekenyalan  kadar_gula  tebal_kulit\n",
       "count   90.000000   90.000000   90.000000    90.000000\n",
       "mean   142.388889    6.547778    3.956667     0.721778\n",
       "std     37.919398    1.933456    0.785265     0.126461\n",
       "min     85.000000    3.400000    2.600000     0.510000\n",
       "25%    104.250000    4.525000    3.225000     0.592500\n",
       "50%    143.000000    6.850000    4.000000     0.730000\n",
       "75%    175.500000    8.375000    4.700000     0.847500\n",
       "max    210.000000    9.400000    5.200000     0.920000"
      ]
     },
     "execution_count": 13,
     "metadata": {},
     "output_type": "execute_result"
    }
   ],
   "source": [
    "df.describe()"
   ]
  },
  {
   "cell_type": "code",
   "execution_count": 15,
   "id": "ebaebf34-57bf-4665-9631-70755136baf3",
   "metadata": {},
   "outputs": [
    {
     "data": {
      "text/plain": [
       "grade\n",
       "Ekspor           30\n",
       "Lokal Premium    30\n",
       "Industri         30\n",
       "Name: count, dtype: int64"
      ]
     },
     "execution_count": 15,
     "metadata": {},
     "output_type": "execute_result"
    }
   ],
   "source": [
    "df[\"grade\"].value_counts()"
   ]
  },
  {
   "cell_type": "code",
   "execution_count": 41,
   "id": "a2b2cf57-c03c-4dde-9b8a-853f5cc9c492",
   "metadata": {},
   "outputs": [
    {
     "data": {
      "image/png": "[encoded data removed]",
      "text/plain": [
       "<Figure size 600x500 with 1 Axes>"
      ]
     },
     "metadata": {},
     "output_type": "display_data"
    }
   ],
   "source": [
    "import matplotlib.pyplot as plt\n",
    "ekspor=df[df[\"grade\"]==\"Ekspor\"]\n",
    "lokal_premium=df[df[\"grade\"]==\"Lokal Premium\"]\n",
    "industri=df[df[\"grade\"]==\"Industri\"]\n",
    "plt.figure(figsize=(6,5))\n",
    "plt.scatter(ekspor[\"berat\"],ekspor[\"kekenyalan\"],s=100,alpha=0.3,color=\"red\",label=\"Ekspor\")\n",
    "plt.scatter(lokal_premium[\"berat\"],lokal_premium[\"kekenyalan\"],s=100,alpha=0.3,color=\"green\",label=\"lokal_premium\")\n",
    "plt.scatter(industri[\"berat\"],industri[\"kekenyalan\"],s=100,alpha=0.3,color=\"blue\",label=\"industri\")\n",
    "plt.xlabel(\"berat\")\n",
    "plt.ylabel(\"kekenyalan\")\n",
    "plt.title(\"Berat vs Kekenyalan\")\n",
    "plt.legend()\n",
    "plt.grid(True,linestyle=\"--\",alpha=0.3)\n",
    "plt.show()"
   ]
  },
  {
   "cell_type": "code",
   "execution_count": 53,
   "id": "cfd34ced-86c0-4161-b4fe-a356b5b560e9",
   "metadata": {},
   "outputs": [
    {
     "data": {
      "image/png": "[encoded data removed]",
      "text/plain": [
       "<Figure size 600x500 with 1 Axes>"
      ]
     },
     "metadata": {},
     "output_type": "display_data"
    }
   ],
   "source": [
    "import matplotlib.pyplot as plt\n",
    "ekspor=df[df[\"grade\"]==\"Ekspor\"]\n",
    "lokal_premium=df[df[\"grade\"]==\"Lokal Premium\"]\n",
    "industri=df[df[\"grade\"]==\"Industri\"]\n",
    "plt.figure(figsize=(6,5))\n",
    "plt.scatter(ekspor[\"kadar_gula\"],ekspor[\"tebal_kulit\"],s=100,alpha=0.3,color=\"red\",label=\"Ekspor\")\n",
    "plt.scatter(lokal_premium[\"kadar_gula\"],lokal_premium[\"tebal_kulit\"],s=100,alpha=0.3,color=\"green\",label=\"Lokal Premium\")\n",
    "plt.scatter(industri[\"kadar_gula\"],industri[\"tebal_kulit\"],s=100,alpha=0.3,color=\"blue\",label=\"Industri\")\n",
    "plt.xlabel(\"kadar gula\")\n",
    "plt.ylabel(\"tebal kulit\")\n",
    "plt.legend()\n",
    "plt.grid(True,linestyle=\"--\",alpha=0.3)\n",
    "plt.show()"
   ]
  },
  {
   "cell_type": "code",
   "execution_count": 66,
   "id": "0fda090b-c2fe-4362-8f21-36b4aefac5c3",
   "metadata": {},
   "outputs": [
    {
     "name": "stdout",
     "output_type": "stream",
     "text": [
      "Akurasi : 1.0\n"
     ]
    }
   ],
   "source": [
    "from sklearn.linear_model import LogisticRegression\n",
    "from sklearn.model_selection import train_test_split\n",
    "from sklearn.metrics import accuracy_score\n",
    "from sklearn.preprocessing import StandardScaler\n",
    "X=df[[\"berat\",\"kekenyalan\",\"kadar_gula\",\"tebal_kulit\"]]\n",
    "y=df[\"grade\"]\n",
    "X_train,X_test,y_train,y_test=train_test_split(\n",
    "    X,y,test_size=0.2,random_state=42\n",
    ")\n",
    "scaler=StandardScaler()\n",
    "X_train_scaled=scaler.fit_transform(X_train)\n",
    "X_test_scaled=scaler.transform(X_test)\n",
    "#buat otak baru\n",
    "model=LogisticRegression()\n",
    "#suruh otak belajar\n",
    "model.fit(X_train_scaled,y_train)\n",
    "#mengerjakan test, simpan jawaban di y_pred\n",
    "y_pred=model.predict(X_test_scaled)\n",
    "#cek kunci jawaban\n",
    "print(\"Akurasi :\",accuracy_score(y_test,y_pred))"
   ]
  },
  {
   "cell_type": "code",
   "execution_count": 71,
   "id": "2103a133-1f85-45f3-b36f-3af787010beb",
   "metadata": {},
   "outputs": [
    {
     "name": "stdout",
     "output_type": "stream",
     "text": [
      "['Ekspor' 'Industri' 'Lokal Premium']\n",
      "[0.71709205 0.00089314 0.28201482]\n",
      "------\n",
      "model memprediksi Ekspor dengan tingkat keyakinan 71.71%\n"
     ]
    }
   ],
   "source": [
    "data_baru=pd.DataFrame([[80,8,4,0.8]],columns=[\"berat\",\"kekenyalan\",\"kadar_gula\",\"tebal_kulit\"])\n",
    "data_baru_scaled=scaler.transform(data_baru)\n",
    "model.predict(data_baru_scaled)[0]\n",
    "print(model.classes_)\n",
    "print(model.predict_proba(data_baru_scaled)[0])\n",
    "print(\"------\")\n",
    "prediksi=model.predict(data_baru_scaled)[0]\n",
    "presentase=max(model.predict_proba(data_baru_scaled)[0])\n",
    "print(f\"model memprediksi {prediksi} dengan tingkat keyakinan {presentase*100:.2f}%\")"
   ]
  },
  {
   "cell_type": "code",
   "execution_count": 72,
   "id": "fd2aaefe-5762-47d5-b2e9-b3cf499ce5c1",
   "metadata": {},
   "outputs": [
    {
     "data": {
      "text/plain": [
       "['scaler_klasifikasi_tomat.joblib']"
      ]
     },
     "execution_count": 72,
     "metadata": {},
     "output_type": "execute_result"
    }
   ],
   "source": [
    "import joblib\n",
    "joblib.dump(model,\"model_klasifikasi_tomat.joblib\")\n",
    "joblib.dump(scaler,\"scaler_klasifikasi_tomat.joblib\")"
   ]
  }
 ],
 "metadata": {
  "kernelspec": {
   "display_name": "Python 3 (ipykernel)",
   "language": "python",
   "name": "python3"
  },
  "language_info": {
   "codemirror_mode": {
    "name": "ipython",
    "version": 3
   },
   "file_extension": ".py",
   "mimetype": "text/x-python",
   "name": "python",
   "nbconvert_exporter": "python",
   "pygments_lexer": "ipython3",
   "version": "3.13.5"
  }
 },
 "nbformat": 4,
 "nbformat_minor": 5
}
